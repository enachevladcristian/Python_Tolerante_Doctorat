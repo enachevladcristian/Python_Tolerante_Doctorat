{
 "cells": [
  {
   "cell_type": "code",
   "execution_count": 1,
   "id": "46e44302-296b-4d61-a4c5-4600aa3e0c18",
   "metadata": {
    "tags": []
   },
   "outputs": [],
   "source": [
    "import ipywidgets as widgets\n",
    "import numpy as np\n",
    "import matplotlib.pyplot as plt"
   ]
  },
  {
   "cell_type": "code",
   "execution_count": 2,
   "id": "9eaaf5e6-0352-44a8-b6bd-06b0cc424b8b",
   "metadata": {
    "tags": []
   },
   "outputs": [
    {
     "data": {
      "application/vnd.jupyter.widget-view+json": {
       "model_id": "26628108e28c4cd492810372f9e17f89",
       "version_major": 2,
       "version_minor": 0
      },
      "text/plain": [
       "BoundedFloatText(value=0.0, description='Diametru efectiv', step=1.0)"
      ]
     },
     "metadata": {},
     "output_type": "display_data"
    },
    {
     "data": {
      "application/vnd.jupyter.widget-view+json": {
       "model_id": "bcd467196eb240c9b3cfd866717a903b",
       "version_major": 2,
       "version_minor": 0
      },
      "text/plain": [
       "BoundedFloatText(value=0.0, description='Toleranta prescrisa', step=1.0)"
      ]
     },
     "metadata": {},
     "output_type": "display_data"
    },
    {
     "data": {
      "application/vnd.jupyter.widget-view+json": {
       "model_id": "55fd7bbc451641b8bd4b784b18dba356",
       "version_major": 2,
       "version_minor": 0
      },
      "text/plain": [
       "Output()"
      ]
     },
     "metadata": {},
     "output_type": "display_data"
    }
   ],
   "source": [
    "# Caz 1 - Arbore\n",
    "def plotare(a,b):\n",
    "    d_max = a - b\n",
    "    d_min = a + b\n",
    "    x = [ d_min, d_max]\n",
    "    y = [ b, b]\n",
    "    fig = plt.figure(figsize = (8,5))\n",
    "    for i in range(len(x)):\n",
    "        plt.annotate(f'({x[i]}, {y[i]})',(x[i],y[i]), textcoords = \"offset points\", xytext = (0,2), ha = 'center')\n",
    "    plt.xlabel('Diametru')\n",
    "    plt.ylabel('Toleranta')\n",
    "    #plt.fill_between(x, y,y2 =0, color='skyblue', alpha=0.3)\n",
    "    plt.title('Caz 1 - Alezaj')\n",
    "    plt.plot(x,y,marker='o', linestyle='-', color='b')\n",
    "\n",
    "diam_ef = widgets.BoundedFloatText(step = 1, description=\"Diametru efectiv\", disabled = False)\n",
    "tol_prescrisa = widgets.BoundedFloatText(step = 1, description=\"Toleranta prescrisa\", disabled = False)\n",
    "\n",
    "\n",
    "gui = widgets.interactive_output(plotare, {\"a\": diam_ef, \"b\": tol_prescrisa})\n",
    "\n",
    "\n",
    "\n",
    "display(diam_ef, tol_prescrisa, gui)"
   ]
  },
  {
   "cell_type": "code",
   "execution_count": 3,
   "id": "ffa670e1-77d0-4d51-8b35-62230940a820",
   "metadata": {
    "tags": []
   },
   "outputs": [
    {
     "data": {
      "application/vnd.jupyter.widget-view+json": {
       "model_id": "5be41cee25054370a6f4168a4c5d14b8",
       "version_major": 2,
       "version_minor": 0
      },
      "text/plain": [
       "BoundedFloatText(value=0.0, description='Diam_ef', step=1.0)"
      ]
     },
     "metadata": {},
     "output_type": "display_data"
    },
    {
     "data": {
      "application/vnd.jupyter.widget-view+json": {
       "model_id": "ba5f380ff3bc424593630bda7d0b28a5",
       "version_major": 2,
       "version_minor": 0
      },
      "text/plain": [
       "BoundedFloatText(value=0.0, description='Tol_presc', step=1.0)"
      ]
     },
     "metadata": {},
     "output_type": "display_data"
    },
    {
     "data": {
      "application/vnd.jupyter.widget-view+json": {
       "model_id": "fef2ff8415e04d7d9df1a9626d82bdde",
       "version_major": 2,
       "version_minor": 0
      },
      "text/plain": [
       "BoundedFloatText(value=0.0, description='Tol_sup', step=1.0)"
      ]
     },
     "metadata": {},
     "output_type": "display_data"
    },
    {
     "data": {
      "application/vnd.jupyter.widget-view+json": {
       "model_id": "75422feed66648d4a79816917c78e4c2",
       "version_major": 2,
       "version_minor": 0
      },
      "text/plain": [
       "BoundedFloatText(value=0.0, description='Tol_inf', step=1.0)"
      ]
     },
     "metadata": {},
     "output_type": "display_data"
    },
    {
     "data": {
      "application/vnd.jupyter.widget-view+json": {
       "model_id": "a053ac90be79417087be64fd637aa2e7",
       "version_major": 2,
       "version_minor": 0
      },
      "text/plain": [
       "Output()"
      ]
     },
     "metadata": {},
     "output_type": "display_data"
    }
   ],
   "source": [
    "# Caz 2 - Arbore\n",
    "def plotare(a,b,c,d):\n",
    "    d_max = a - b\n",
    "    d_min = a + c\n",
    "    dif = abs(d_max-d_min) + d\n",
    "    x = [ d_min, d_max] \n",
    "    y = [ round(dif,2),d]\n",
    "    fig = plt.figure(figsize = (8,5))\n",
    "    for i in range(len(x)):\n",
    "        plt.annotate(f'({x[i]}, {y[i]})',(x[i],y[i]), textcoords = \"offset points\", xytext = (0,2), ha = 'center')\n",
    "    plt.xlabel('Diametru')\n",
    "    plt.ylabel('Toleranta')\n",
    "    plt.title('Caz 2 - Alezaj')\n",
    "    plt.plot(x,y,marker='o', linestyle='-', color='b')\n",
    "\n",
    "diam_ef = widgets.BoundedFloatText(step = 1, description=\"Diam_ef\", disabled = False)\n",
    "tol_prescrisa = widgets.BoundedFloatText(step = 1, description=\"Tol_presc\", disabled = False)\n",
    "tol_sup = widgets.BoundedFloatText(step = 1, description=\"Tol_sup\", disabled = False)\n",
    "tol_inf = widgets.BoundedFloatText(step = 1, description=\"Tol_inf\", disabled = False)\n",
    "\n",
    "gui = widgets.interactive_output(plotare, {\"a\": diam_ef, \"b\": tol_sup, \"c\":tol_inf, \"d\":tol_prescrisa})\n",
    "\n",
    "\n",
    "\n",
    "display(diam_ef, tol_prescrisa,tol_sup, tol_inf, gui)"
   ]
  }
 ],
 "metadata": {
  "kernelspec": {
   "display_name": "Python 3 (ipykernel)",
   "language": "python",
   "name": "python3"
  },
  "language_info": {
   "codemirror_mode": {
    "name": "ipython",
    "version": 3
   },
   "file_extension": ".py",
   "mimetype": "text/x-python",
   "name": "python",
   "nbconvert_exporter": "python",
   "pygments_lexer": "ipython3",
   "version": "3.11.7"
  }
 },
 "nbformat": 4,
 "nbformat_minor": 5
}
