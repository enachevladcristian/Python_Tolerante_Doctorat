{
 "cells": [
  {
   "cell_type": "code",
   "execution_count": 2,
   "id": "496b5842-7fba-4f80-8d41-765a6f835c99",
   "metadata": {
    "tags": []
   },
   "outputs": [],
   "source": [
    "import ipywidgets as widgets\n",
    "import numpy as np\n",
    "import matplotlib.pyplot as plt\n",
    "from mpl_toolkits import mplot3d\n",
    "from ipywidgets import TwoByTwoLayout"
   ]
  },
  {
   "cell_type": "markdown",
   "id": "f1536f5b-c095-48d1-ab9b-8f6b8aa486d8",
   "metadata": {},
   "source": [
    "#Caz 1 - Arbore"
   ]
  },
  {
   "cell_type": "code",
   "execution_count": 3,
   "id": "be88f8b1-7b80-4ebf-a1e7-4bca0c243182",
   "metadata": {
    "tags": []
   },
   "outputs": [
    {
     "data": {
      "application/vnd.jupyter.widget-view+json": {
       "model_id": "8aa6f2e96d544d97b9856ff427012777",
       "version_major": 2,
       "version_minor": 0
      },
      "text/plain": [
       "Box(children=(VBox(children=(BoundedFloatText(value=0.0, description='Diametru efectiv', layout=Layout(width='…"
      ]
     },
     "execution_count": 3,
     "metadata": {},
     "output_type": "execute_result"
    }
   ],
   "source": [
    "# Caz 1 - Arbore\n",
    "def plotare(a,b):\n",
    "    d_max = a + b\n",
    "    d_min = a - b\n",
    "    x = [ d_min, d_max]\n",
    "    y = [ b, b]\n",
    "    fig = plt.figure(figsize = (4,2))\n",
    "    for i in range(len(x)):\n",
    "        plt.annotate(f'({x[i]}, {y[i]})',(x[i],y[i]), textcoords = \"offset points\", xytext = (0,2), ha = 'center')\n",
    "    plt.xlabel('Diametru')\n",
    "    plt.ylabel('Toleranta')\n",
    "    #plt.fill_between(x, y,y2 =0, color='skyblue', alpha=0.3)\n",
    "    plt.title('Caz 1 - Arbore')\n",
    "    plt.plot(x,y,marker='o', linestyle='-', color='b')\n",
    "\n",
    "diam_ef = widgets.BoundedFloatText(step = 1, description=\"Diametru efectiv\", disabled = False, layout = widgets.Layout(width = \"auto\"))\n",
    "tol_prescrisa = widgets.BoundedFloatText(step = 1, description=\"Toleranta prescrisa\", disabled = False, layout = widgets.Layout(width = \"auto\"))\n",
    "file = open(\"D:\\Desene RS 2\\caz1_1.png\", \"rb\")\n",
    "image_1 = file.read()\n",
    "poza_1 = widgets.Image(value = image_1,\n",
    "                      format = 'png',\n",
    "                      width = 500,\n",
    "                      height = 100,\n",
    "                      layout = widgets.Layout(object_fit = 'contain'))\n",
    "gui = widgets.interactive_output(plotare, {\"a\": diam_ef, \"b\": tol_prescrisa})\n",
    "\n",
    "widgets.Box([widgets.VBox([diam_ef,tol_prescrisa],layout = widgets.Layout( justify_content = \"center\")),gui,poza_1], layout = widgets.Layout(flex = \"flex-column\"))\n",
    "#widgets.TwoByTwoLayout(top_left = diam_ef, top_right = tol_prescrisa, bottom_left = poza_1, bottom_right = gui)\n",
    "#widgets.Box([diam_ef, tol_prescrisa, gui], layout = widgets.Layout(flex_flow=\"column\"))\n",
    "#display(diam_ef, tol_prescrisa, gui)"
   ]
  },
  {
   "cell_type": "markdown",
   "id": "d8c630d3-5a1e-42d2-a03f-cdb46c25eaa1",
   "metadata": {},
   "source": [
    "#Caz 2 - Arbore"
   ]
  },
  {
   "cell_type": "code",
   "execution_count": 5,
   "id": "cb42e5e0-1837-44d8-9a5e-a634cf492f0a",
   "metadata": {
    "tags": []
   },
   "outputs": [
    {
     "data": {
      "application/vnd.jupyter.widget-view+json": {
       "model_id": "d1319a1ef0304b0bb885bf5b135b5c43",
       "version_major": 2,
       "version_minor": 0
      },
      "text/plain": [
       "Box(children=(VBox(children=(BoundedFloatText(value=0.0, description='Diam_ef', layout=Layout(padding='0'), st…"
      ]
     },
     "execution_count": 5,
     "metadata": {},
     "output_type": "execute_result"
    }
   ],
   "source": [
    "# Caz 2 - Arbore\n",
    "def plotare(a,b,c,d):\n",
    "    d_max = a + b\n",
    "    d_min = a - c\n",
    "    dif = (d_max-d_min) + d\n",
    "    x = [ d_min, d_max]\n",
    "    y = [ round(dif,2),d]\n",
    "    fig = plt.figure(figsize = (4,2))\n",
    "    for i in range(len(x)):\n",
    "        plt.annotate(f'({x[i]}, {y[i]})',(x[i],y[i]), textcoords = \"offset points\", xytext = (0,2), ha = 'center')\n",
    "    plt.xlabel('Diametru')\n",
    "    plt.ylabel('Toleranta')\n",
    "    plt.title('Caz 2 - Arbore')\n",
    "    plt.plot(x,y,marker='o', linestyle='-', color='b')\n",
    "\n",
    "diam_ef = widgets.BoundedFloatText(step = 1, description=\"Diam_ef\", disabled = False, layout = widgets.Layout( padding = \"0\"))\n",
    "tol_prescrisa = widgets.BoundedFloatText(step = 1, description=\"Tol_presc\", disabled = False)\n",
    "tol_sup = widgets.BoundedFloatText(step = 1, description=\"Tol_sup\", disabled = False)\n",
    "tol_inf = widgets.BoundedFloatText(step = 1, description=\"Tol_inf\", disabled = False)\n",
    "file = open(\"D:\\Desene RS 2\\caz1_2.png\", \"rb\")\n",
    "image_2 = file.read()\n",
    "poza_2 = widgets.Image(value = image_2,\n",
    "                      format = 'png',\n",
    "                      width = 500,\n",
    "                      height = 100,\n",
    "                      layout = widgets.Layout(object_fit = 'contain'))\n",
    "\n",
    "\n",
    "gui = widgets.interactive_output(plotare, {\"a\": diam_ef, \"b\": tol_sup, \"c\":tol_inf, \"d\":tol_prescrisa})\n",
    "\n",
    "widgets.Box([widgets.VBox([diam_ef,tol_prescrisa,tol_sup,tol_inf],layout = widgets.Layout( justify_content = \"center\")),gui,poza_2], layout = widgets.Layout(flex = \"flex-column\"))\n",
    "#widgets.HBox([diam_ef,tol_prescrisa,tol_sup])\n",
    "#display(diam_ef, tol_prescrisa,tol_sup, tol_inf, gui)\n",
    "\n"
   ]
  },
  {
   "cell_type": "markdown",
   "id": "532c4570-972b-4a33-b462-ab99a63b0328",
   "metadata": {},
   "source": [
    "# Grafic 3D"
   ]
  },
  {
   "cell_type": "code",
   "execution_count": 3,
   "id": "f6268949-c94b-40f3-a365-436ceb12da1b",
   "metadata": {
    "tags": []
   },
   "outputs": [
    {
     "data": {
      "application/vnd.jupyter.widget-view+json": {
       "model_id": "9739cce17c344285afb6721cfebbda68",
       "version_major": 2,
       "version_minor": 0
      },
      "text/plain": [
       "Box(children=(VBox(children=(BoundedFloatText(value=0.0, description='Diam_prescr_1', step=1.0), BoundedFloatT…"
      ]
     },
     "execution_count": 3,
     "metadata": {},
     "output_type": "execute_result"
    }
   ],
   "source": [
    "def plotare_3d(diampr1, diampr2, tol_inf_1,tol_inf_2,tol_sup_1,tol_sup_2, diam_ef_1, diam_ef_2, tol_prescr ):\n",
    "    ax = plt.axes(projection = \"3d\")\n",
    "    \n",
    "    # calculez val diam minime si maxime de material\n",
    "    d_min1 = diampr1 - tol_inf_1\n",
    "    d_min2 = diampr2 - tol_inf_2\n",
    "    d_max1 = diampr1 + tol_sup_1\n",
    "    d_max2 = diampr2 + tol_sup_2\n",
    "    #-----------------------------------------------\n",
    "    \n",
    "    # creez grid-ul pentru grafic 3D\n",
    "    x_data = np.arange(d_min1, d_max1, 0.1)\n",
    "    y_data = np.arange(d_min2, d_max2, 0.1)\n",
    "    X,Y = np.meshgrid(x_data, y_data)\n",
    "    #-----------------------------------------------\n",
    "    \n",
    "    #Creez ecuatia pentru suprafata\n",
    "    Z = tol_prescr + abs(X-d_max1) + abs(Y-d_max2)\n",
    "    fig = plt.figure(figsize = (4,2))\n",
    "    ax.plot_surface(X,Y,Z, cmap= \"plasma\")\n",
    "    ax.view_init(azim = 30, elev = 35)\n",
    "    plt.show()\n",
    "    \n",
    "tol_prescr = widgets.BoundedFloatText(step = 0.01, description = \"Tol_prescr\", disabled = False)\n",
    "tol_sup_1 = widgets.BoundedFloatText(step = 0.01, description = \"Tol_sup_1\", disabled = False)\n",
    "tol_inf_1 = widgets.BoundedFloatText(step = 0.01, description = \"Tol_inf_1\", disabled = False)\n",
    "tol_sup_2 = widgets.BoundedFloatText(step = 0.01, description = \"Tol_sup_2\", disabled = False)\n",
    "tol_inf_2 = widgets.BoundedFloatText(step = 0.01, description = \"Tol_inf_2\", disabled = False)\n",
    "diam_prescr_1 = widgets.BoundedFloatText(step = 1, description = \"Diam_prescr_1\", disabled = False)\n",
    "diam_prescr_2 = widgets.BoundedFloatText(step = 1, description = \"Diam_prescr_2\", disabled = False)\n",
    "diam_ef_1 = widgets.BoundedFloatText(step = 1, description = \"Diam_ef_1\", disabled = False)\n",
    "diam_ef_2 = widgets.BoundedFloatText(step = 1, description = \"Diam_ef_2\", disabled = False)\n",
    "\n",
    "file = open(\"D:\\Desene RS 2\\caz1_3.png\", \"rb\")\n",
    "image_3 = file.read()\n",
    "poza_3 = widgets.Image(value = image_3,\n",
    "                      format = 'png',\n",
    "                      width = 500,\n",
    "                      height = 100,\n",
    "                      layout = widgets.Layout(object_fit = 'contain'))\n",
    "gui = widgets.interactive_output(plotare_3d, {\"diampr1\":diam_prescr_1, \n",
    "                                              \"diampr2\":diam_prescr_2,\n",
    "                                              \"tol_sup_1\":tol_sup_1,\n",
    "                                              \"tol_sup_2\":tol_sup_2, \n",
    "                                              \"tol_inf_1\":tol_inf_1, \n",
    "                                              \"tol_inf_2\":tol_inf_2, \n",
    "                                              \"diam_ef_1\":diam_ef_1, \n",
    "                                              \"diam_ef_2\":diam_ef_2, \n",
    "                                              \"tol_prescr\":tol_prescr})\n",
    "widgets.Box([widgets.VBox([\n",
    "    diam_prescr_1,\n",
    "    diam_prescr_2,\n",
    "    tol_sup_1,\n",
    "    tol_sup_2,\n",
    "    tol_inf_1,\n",
    "    tol_inf_2,\n",
    "    diam_ef_1,\n",
    "    diam_ef_2,\n",
    "    tol_prescr\n",
    "],\n",
    "                          layout = widgets.Layout(justify_content = \"center\")),gui,poza_3], layout = widgets.Layout(flex = \"flex-column\"))\n",
    "#display(tol_prescr, tol_sup_1, tol_inf_1, tol_sup_2, tol_inf_2, diam_prescr_1, diam_prescr_2,gui)"
   ]
  }
 ],
 "metadata": {
  "kernelspec": {
   "display_name": "Python 3 (ipykernel)",
   "language": "python",
   "name": "python3"
  },
  "language_info": {
   "codemirror_mode": {
    "name": "ipython",
    "version": 3
   },
   "file_extension": ".py",
   "mimetype": "text/x-python",
   "name": "python",
   "nbconvert_exporter": "python",
   "pygments_lexer": "ipython3",
   "version": "3.11.7"
  }
 },
 "nbformat": 4,
 "nbformat_minor": 5
}
